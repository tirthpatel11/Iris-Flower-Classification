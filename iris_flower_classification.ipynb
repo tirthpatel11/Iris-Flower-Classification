{
 "cells": [
  {
   "cell_type": "markdown",
   "id": "8a8ec489-6ee4-4e84-843a-064862097a69",
   "metadata": {},
   "source": [
    "1. Know The Data"
   ]
  },
  {
   "cell_type": "code",
   "execution_count": 2,
   "id": "a0bd7cbf-7b2f-4107-aff4-869f4065d466",
   "metadata": {},
   "outputs": [],
   "source": [
    "# Import Libraries\n",
    "# Importing Numpy & Pandas for data processing & data wrangling\n",
    "import numpy as np\n",
    "import pandas as pd\n",
    "\n",
    "# Importing  tools for visualization\n",
    "import matplotlib.pyplot as plt\n",
    "import seaborn as sns\n",
    "\n",
    "# Import evaluation metric libraries\n",
    "from sklearn.metrics import confusion_matrix, accuracy_score, precision_score, recall_score, f1_score, classification_report\n",
    "\n",
    "# Library used for data preprocessing\n",
    "from sklearn.preprocessing import LabelEncoder\n",
    "\n",
    "# Import model selection libraries\n",
    "from sklearn.model_selection import train_test_split, GridSearchCV, RandomizedSearchCV, RepeatedStratifiedKFold\n",
    "\n",
    "# Library used for ML Model implementation\n",
    "from sklearn.linear_model import LogisticRegression\n",
    "from sklearn.tree import DecisionTreeClassifier\n",
    "from sklearn.ensemble import RandomForestClassifier\n",
    "from sklearn.svm import SVC\n",
    "from sklearn.neural_network import MLPClassifier\n",
    "from sklearn.naive_bayes import GaussianNB\n",
    "import xgboost as xgb\n",
    "\n",
    "# Library used for ignore warnings\n",
    "import warnings\n",
    "warnings.filterwarnings('ignore')\n",
    "%matplotlib inline"
   ]
  },
  {
   "cell_type": "code",
   "execution_count": 3,
   "id": "ef6fa5ff-2a74-4039-af72-049736aaae6b",
   "metadata": {},
   "outputs": [],
   "source": [
    "# Load Dataset\n",
    "df = pd.read_csv(\"https://raw.githubusercontent.com/Apaulgithub/oibsip_task1/main/Iris.csv\")"
   ]
  },
  {
   "cell_type": "code",
   "execution_count": 4,
   "id": "93e385f2-b946-4849-82f0-c826f315537d",
   "metadata": {},
   "outputs": [
    {
     "data": {
      "text/html": [
       "<div>\n",
       "<style scoped>\n",
       "    .dataframe tbody tr th:only-of-type {\n",
       "        vertical-align: middle;\n",
       "    }\n",
       "\n",
       "    .dataframe tbody tr th {\n",
       "        vertical-align: top;\n",
       "    }\n",
       "\n",
       "    .dataframe thead th {\n",
       "        text-align: right;\n",
       "    }\n",
       "</style>\n",
       "<table border=\"1\" class=\"dataframe\">\n",
       "  <thead>\n",
       "    <tr style=\"text-align: right;\">\n",
       "      <th></th>\n",
       "      <th>Id</th>\n",
       "      <th>SepalLengthCm</th>\n",
       "      <th>SepalWidthCm</th>\n",
       "      <th>PetalLengthCm</th>\n",
       "      <th>PetalWidthCm</th>\n",
       "      <th>Species</th>\n",
       "    </tr>\n",
       "  </thead>\n",
       "  <tbody>\n",
       "    <tr>\n",
       "      <th>0</th>\n",
       "      <td>1</td>\n",
       "      <td>5.1</td>\n",
       "      <td>3.5</td>\n",
       "      <td>1.4</td>\n",
       "      <td>0.2</td>\n",
       "      <td>Iris-setosa</td>\n",
       "    </tr>\n",
       "    <tr>\n",
       "      <th>1</th>\n",
       "      <td>2</td>\n",
       "      <td>4.9</td>\n",
       "      <td>3.0</td>\n",
       "      <td>1.4</td>\n",
       "      <td>0.2</td>\n",
       "      <td>Iris-setosa</td>\n",
       "    </tr>\n",
       "    <tr>\n",
       "      <th>2</th>\n",
       "      <td>3</td>\n",
       "      <td>4.7</td>\n",
       "      <td>3.2</td>\n",
       "      <td>1.3</td>\n",
       "      <td>0.2</td>\n",
       "      <td>Iris-setosa</td>\n",
       "    </tr>\n",
       "    <tr>\n",
       "      <th>3</th>\n",
       "      <td>4</td>\n",
       "      <td>4.6</td>\n",
       "      <td>3.1</td>\n",
       "      <td>1.5</td>\n",
       "      <td>0.2</td>\n",
       "      <td>Iris-setosa</td>\n",
       "    </tr>\n",
       "    <tr>\n",
       "      <th>4</th>\n",
       "      <td>5</td>\n",
       "      <td>5.0</td>\n",
       "      <td>3.6</td>\n",
       "      <td>1.4</td>\n",
       "      <td>0.2</td>\n",
       "      <td>Iris-setosa</td>\n",
       "    </tr>\n",
       "  </tbody>\n",
       "</table>\n",
       "</div>"
      ],
      "text/plain": [
       "   Id  SepalLengthCm  SepalWidthCm  PetalLengthCm  PetalWidthCm      Species\n",
       "0   1            5.1           3.5            1.4           0.2  Iris-setosa\n",
       "1   2            4.9           3.0            1.4           0.2  Iris-setosa\n",
       "2   3            4.7           3.2            1.3           0.2  Iris-setosa\n",
       "3   4            4.6           3.1            1.5           0.2  Iris-setosa\n",
       "4   5            5.0           3.6            1.4           0.2  Iris-setosa"
      ]
     },
     "execution_count": 4,
     "metadata": {},
     "output_type": "execute_result"
    }
   ],
   "source": [
    "# Dataset First Look\n",
    "# View top 5 rows of the dataset\n",
    "df.head()"
   ]
  },
  {
   "cell_type": "code",
   "execution_count": 5,
   "id": "a368a834-9335-4526-8a07-35bff65ebfba",
   "metadata": {},
   "outputs": [
    {
     "name": "stdout",
     "output_type": "stream",
     "text": [
      "Number of rows are:  150\n",
      "Number of columns are:  6\n"
     ]
    }
   ],
   "source": [
    "# Dataset Rows & Columns count\n",
    "# Checking number of rows and columns of the dataset using shape\n",
    "print(\"Number of rows are: \",df.shape[0])\n",
    "print(\"Number of columns are: \",df.shape[1])"
   ]
  },
  {
   "cell_type": "code",
   "execution_count": 6,
   "id": "adb34f73-f2a2-4d97-9aae-4762cea39588",
   "metadata": {},
   "outputs": [
    {
     "name": "stdout",
     "output_type": "stream",
     "text": [
      "<class 'pandas.core.frame.DataFrame'>\n",
      "RangeIndex: 150 entries, 0 to 149\n",
      "Data columns (total 6 columns):\n",
      " #   Column         Non-Null Count  Dtype  \n",
      "---  ------         --------------  -----  \n",
      " 0   Id             150 non-null    int64  \n",
      " 1   SepalLengthCm  150 non-null    float64\n",
      " 2   SepalWidthCm   150 non-null    float64\n",
      " 3   PetalLengthCm  150 non-null    float64\n",
      " 4   PetalWidthCm   150 non-null    float64\n",
      " 5   Species        150 non-null    object \n",
      "dtypes: float64(4), int64(1), object(1)\n",
      "memory usage: 7.2+ KB\n"
     ]
    }
   ],
   "source": [
    "# Dataset Info\n",
    "# Checking information about the dataset using info\n",
    "df.info()"
   ]
  },
  {
   "cell_type": "code",
   "execution_count": 7,
   "id": "aa49bb6c-0239-4f50-98c9-c724bee1f67a",
   "metadata": {},
   "outputs": [
    {
     "name": "stdout",
     "output_type": "stream",
     "text": [
      "number of duplicated rows are 0\n"
     ]
    }
   ],
   "source": [
    "# Dataset Duplicate Value Count\n",
    "dup = df.duplicated().sum()\n",
    "print(f'number of duplicated rows are {dup}')"
   ]
  },
  {
   "cell_type": "code",
   "execution_count": 8,
   "id": "64f472cf-f335-4901-8f31-7112ed6f124a",
   "metadata": {},
   "outputs": [
    {
     "data": {
      "text/plain": [
       "Id               0\n",
       "SepalLengthCm    0\n",
       "SepalWidthCm     0\n",
       "PetalLengthCm    0\n",
       "PetalWidthCm     0\n",
       "Species          0\n",
       "dtype: int64"
      ]
     },
     "execution_count": 8,
     "metadata": {},
     "output_type": "execute_result"
    }
   ],
   "source": [
    "# Missing Values/Null Values Count\n",
    "df.isnull().sum()"
   ]
  },
  {
   "cell_type": "markdown",
   "id": "d36513ad-ade9-4e4c-8dd6-de09a663e434",
   "metadata": {},
   "source": [
    "2. Understanding The Variables"
   ]
  },
  {
   "cell_type": "code",
   "execution_count": 10,
   "id": "3441e49c-10e0-41bc-bfc1-020f618e5999",
   "metadata": {},
   "outputs": [
    {
     "data": {
      "text/plain": [
       "Index(['Id', 'SepalLengthCm', 'SepalWidthCm', 'PetalLengthCm', 'PetalWidthCm',\n",
       "       'Species'],\n",
       "      dtype='object')"
      ]
     },
     "execution_count": 10,
     "metadata": {},
     "output_type": "execute_result"
    }
   ],
   "source": [
    "# Dataset Columns\n",
    "df.columns"
   ]
  },
  {
   "cell_type": "code",
   "execution_count": 11,
   "id": "35a49065-5ec2-41e9-8b18-994e8701914c",
   "metadata": {},
   "outputs": [
    {
     "data": {
      "text/html": [
       "<div>\n",
       "<style scoped>\n",
       "    .dataframe tbody tr th:only-of-type {\n",
       "        vertical-align: middle;\n",
       "    }\n",
       "\n",
       "    .dataframe tbody tr th {\n",
       "        vertical-align: top;\n",
       "    }\n",
       "\n",
       "    .dataframe thead th {\n",
       "        text-align: right;\n",
       "    }\n",
       "</style>\n",
       "<table border=\"1\" class=\"dataframe\">\n",
       "  <thead>\n",
       "    <tr style=\"text-align: right;\">\n",
       "      <th></th>\n",
       "      <th>Id</th>\n",
       "      <th>SepalLengthCm</th>\n",
       "      <th>SepalWidthCm</th>\n",
       "      <th>PetalLengthCm</th>\n",
       "      <th>PetalWidthCm</th>\n",
       "      <th>Species</th>\n",
       "    </tr>\n",
       "  </thead>\n",
       "  <tbody>\n",
       "    <tr>\n",
       "      <th>count</th>\n",
       "      <td>150.00</td>\n",
       "      <td>150.00</td>\n",
       "      <td>150.00</td>\n",
       "      <td>150.00</td>\n",
       "      <td>150.00</td>\n",
       "      <td>150</td>\n",
       "    </tr>\n",
       "    <tr>\n",
       "      <th>unique</th>\n",
       "      <td>NaN</td>\n",
       "      <td>NaN</td>\n",
       "      <td>NaN</td>\n",
       "      <td>NaN</td>\n",
       "      <td>NaN</td>\n",
       "      <td>3</td>\n",
       "    </tr>\n",
       "    <tr>\n",
       "      <th>top</th>\n",
       "      <td>NaN</td>\n",
       "      <td>NaN</td>\n",
       "      <td>NaN</td>\n",
       "      <td>NaN</td>\n",
       "      <td>NaN</td>\n",
       "      <td>Iris-setosa</td>\n",
       "    </tr>\n",
       "    <tr>\n",
       "      <th>freq</th>\n",
       "      <td>NaN</td>\n",
       "      <td>NaN</td>\n",
       "      <td>NaN</td>\n",
       "      <td>NaN</td>\n",
       "      <td>NaN</td>\n",
       "      <td>50</td>\n",
       "    </tr>\n",
       "    <tr>\n",
       "      <th>mean</th>\n",
       "      <td>75.50</td>\n",
       "      <td>5.84</td>\n",
       "      <td>3.05</td>\n",
       "      <td>3.76</td>\n",
       "      <td>1.20</td>\n",
       "      <td>NaN</td>\n",
       "    </tr>\n",
       "    <tr>\n",
       "      <th>std</th>\n",
       "      <td>43.45</td>\n",
       "      <td>0.83</td>\n",
       "      <td>0.43</td>\n",
       "      <td>1.76</td>\n",
       "      <td>0.76</td>\n",
       "      <td>NaN</td>\n",
       "    </tr>\n",
       "    <tr>\n",
       "      <th>min</th>\n",
       "      <td>1.00</td>\n",
       "      <td>4.30</td>\n",
       "      <td>2.00</td>\n",
       "      <td>1.00</td>\n",
       "      <td>0.10</td>\n",
       "      <td>NaN</td>\n",
       "    </tr>\n",
       "    <tr>\n",
       "      <th>25%</th>\n",
       "      <td>38.25</td>\n",
       "      <td>5.10</td>\n",
       "      <td>2.80</td>\n",
       "      <td>1.60</td>\n",
       "      <td>0.30</td>\n",
       "      <td>NaN</td>\n",
       "    </tr>\n",
       "    <tr>\n",
       "      <th>50%</th>\n",
       "      <td>75.50</td>\n",
       "      <td>5.80</td>\n",
       "      <td>3.00</td>\n",
       "      <td>4.35</td>\n",
       "      <td>1.30</td>\n",
       "      <td>NaN</td>\n",
       "    </tr>\n",
       "    <tr>\n",
       "      <th>75%</th>\n",
       "      <td>112.75</td>\n",
       "      <td>6.40</td>\n",
       "      <td>3.30</td>\n",
       "      <td>5.10</td>\n",
       "      <td>1.80</td>\n",
       "      <td>NaN</td>\n",
       "    </tr>\n",
       "    <tr>\n",
       "      <th>max</th>\n",
       "      <td>150.00</td>\n",
       "      <td>7.90</td>\n",
       "      <td>4.40</td>\n",
       "      <td>6.90</td>\n",
       "      <td>2.50</td>\n",
       "      <td>NaN</td>\n",
       "    </tr>\n",
       "  </tbody>\n",
       "</table>\n",
       "</div>"
      ],
      "text/plain": [
       "            Id  SepalLengthCm  SepalWidthCm  PetalLengthCm  PetalWidthCm  \\\n",
       "count   150.00         150.00        150.00         150.00        150.00   \n",
       "unique     NaN            NaN           NaN            NaN           NaN   \n",
       "top        NaN            NaN           NaN            NaN           NaN   \n",
       "freq       NaN            NaN           NaN            NaN           NaN   \n",
       "mean     75.50           5.84          3.05           3.76          1.20   \n",
       "std      43.45           0.83          0.43           1.76          0.76   \n",
       "min       1.00           4.30          2.00           1.00          0.10   \n",
       "25%      38.25           5.10          2.80           1.60          0.30   \n",
       "50%      75.50           5.80          3.00           4.35          1.30   \n",
       "75%     112.75           6.40          3.30           5.10          1.80   \n",
       "max     150.00           7.90          4.40           6.90          2.50   \n",
       "\n",
       "            Species  \n",
       "count           150  \n",
       "unique            3  \n",
       "top     Iris-setosa  \n",
       "freq             50  \n",
       "mean            NaN  \n",
       "std             NaN  \n",
       "min             NaN  \n",
       "25%             NaN  \n",
       "50%             NaN  \n",
       "75%             NaN  \n",
       "max             NaN  "
      ]
     },
     "execution_count": 11,
     "metadata": {},
     "output_type": "execute_result"
    }
   ],
   "source": [
    "# Dataset Describe (all columns included)\n",
    "df.describe(include= 'all').round(2)"
   ]
  },
  {
   "cell_type": "code",
   "execution_count": 12,
   "id": "0e7c9476-606a-48f8-8955-dbc7cd8f9274",
   "metadata": {},
   "outputs": [
    {
     "name": "stdout",
     "output_type": "stream",
     "text": [
      "No. of unique values in Id is 150\n",
      "No. of unique values in SepalLengthCm is 35\n",
      "No. of unique values in SepalWidthCm is 23\n",
      "No. of unique values in PetalLengthCm is 43\n",
      "No. of unique values in PetalWidthCm is 22\n",
      "No. of unique values in Species is 3\n"
     ]
    }
   ],
   "source": [
    "# Check Unique Values for each variable.\n",
    "for i in df.columns.tolist():\n",
    "  print(\"No. of unique values in\",i,\"is\",df[i].nunique())"
   ]
  },
  {
   "cell_type": "markdown",
   "id": "fce5fcd9-36f1-4d41-b957-622869ff3e13",
   "metadata": {},
   "source": [
    "3. Data Wrangling"
   ]
  },
  {
   "cell_type": "code",
   "execution_count": 14,
   "id": "3a1ee584-40b5-4140-b80c-6153d20c4c7e",
   "metadata": {},
   "outputs": [],
   "source": [
    "# We don't need the 1st column so let's drop that\n",
    "data=df.iloc[:,1:]"
   ]
  },
  {
   "cell_type": "code",
   "execution_count": 15,
   "id": "61643953-d809-4933-8c9e-6dc90bf277c5",
   "metadata": {},
   "outputs": [
    {
     "data": {
      "text/html": [
       "<div>\n",
       "<style scoped>\n",
       "    .dataframe tbody tr th:only-of-type {\n",
       "        vertical-align: middle;\n",
       "    }\n",
       "\n",
       "    .dataframe tbody tr th {\n",
       "        vertical-align: top;\n",
       "    }\n",
       "\n",
       "    .dataframe thead th {\n",
       "        text-align: right;\n",
       "    }\n",
       "</style>\n",
       "<table border=\"1\" class=\"dataframe\">\n",
       "  <thead>\n",
       "    <tr style=\"text-align: right;\">\n",
       "      <th></th>\n",
       "      <th>SepalLengthCm</th>\n",
       "      <th>SepalWidthCm</th>\n",
       "      <th>PetalLengthCm</th>\n",
       "      <th>PetalWidthCm</th>\n",
       "      <th>Species</th>\n",
       "    </tr>\n",
       "  </thead>\n",
       "  <tbody>\n",
       "    <tr>\n",
       "      <th>0</th>\n",
       "      <td>5.1</td>\n",
       "      <td>3.5</td>\n",
       "      <td>1.4</td>\n",
       "      <td>0.2</td>\n",
       "      <td>Iris-setosa</td>\n",
       "    </tr>\n",
       "    <tr>\n",
       "      <th>1</th>\n",
       "      <td>4.9</td>\n",
       "      <td>3.0</td>\n",
       "      <td>1.4</td>\n",
       "      <td>0.2</td>\n",
       "      <td>Iris-setosa</td>\n",
       "    </tr>\n",
       "    <tr>\n",
       "      <th>2</th>\n",
       "      <td>4.7</td>\n",
       "      <td>3.2</td>\n",
       "      <td>1.3</td>\n",
       "      <td>0.2</td>\n",
       "      <td>Iris-setosa</td>\n",
       "    </tr>\n",
       "    <tr>\n",
       "      <th>3</th>\n",
       "      <td>4.6</td>\n",
       "      <td>3.1</td>\n",
       "      <td>1.5</td>\n",
       "      <td>0.2</td>\n",
       "      <td>Iris-setosa</td>\n",
       "    </tr>\n",
       "    <tr>\n",
       "      <th>4</th>\n",
       "      <td>5.0</td>\n",
       "      <td>3.6</td>\n",
       "      <td>1.4</td>\n",
       "      <td>0.2</td>\n",
       "      <td>Iris-setosa</td>\n",
       "    </tr>\n",
       "  </tbody>\n",
       "</table>\n",
       "</div>"
      ],
      "text/plain": [
       "   SepalLengthCm  SepalWidthCm  PetalLengthCm  PetalWidthCm      Species\n",
       "0            5.1           3.5            1.4           0.2  Iris-setosa\n",
       "1            4.9           3.0            1.4           0.2  Iris-setosa\n",
       "2            4.7           3.2            1.3           0.2  Iris-setosa\n",
       "3            4.6           3.1            1.5           0.2  Iris-setosa\n",
       "4            5.0           3.6            1.4           0.2  Iris-setosa"
      ]
     },
     "execution_count": 15,
     "metadata": {},
     "output_type": "execute_result"
    }
   ],
   "source": [
    "# New updated dataset\n",
    "data.head()"
   ]
  },
  {
   "cell_type": "markdown",
   "id": "e54505ea-396e-4a58-83e2-0fadc2902fb2",
   "metadata": {},
   "source": [
    "4. Data Vizualization, Storytelling & Experimenting with charts : Understand the relationships between variables"
   ]
  },
  {
   "cell_type": "code",
   "execution_count": 17,
   "id": "3c9139e8-27e1-4f41-aa6e-4f652e30f582",
   "metadata": {},
   "outputs": [
    {
     "data": {
      "image/png": "[encoded data removed]",
      "text/plain": [
       "<Figure size 800x600 with 4 Axes>"
      ]
     },
     "metadata": {},
     "output_type": "display_data"
    }
   ],
   "source": [
    "# Chart - 1 Histogram visualization code for distribution of numerical variables\n",
    "# Create a figure with subplots\n",
    "plt.figure(figsize=(8, 6))\n",
    "plt.suptitle('Distribution of Iris Flower Measurements', fontsize=14)\n",
    "\n",
    "# Create a 2x2 grid of subplots\n",
    "plt.subplot(2, 2, 1)  # Subplot 1 (Top-Left)\n",
    "plt.hist(data['SepalLengthCm'])\n",
    "plt.title('Sepal Length Distribution')\n",
    "\n",
    "plt.subplot(2, 2, 2)  # Subplot 2 (Top-Right)\n",
    "plt.hist(data['SepalWidthCm'])\n",
    "plt.title('Sepal Width Distribution')\n",
    "\n",
    "plt.subplot(2, 2, 3)  # Subplot 3 (Bottom-Left)\n",
    "plt.hist(data['PetalLengthCm'])\n",
    "plt.title('Petal Length Distribution')\n",
    "\n",
    "plt.subplot(2, 2, 4)  # Subplot 4 (Bottom-Right)\n",
    "plt.hist(data['PetalWidthCm'])\n",
    "plt.title('Petal Width Distribution')\n",
    "\n",
    "# Display the subplots\n",
    "plt.tight_layout()  # Helps in adjusting the layout\n",
    "plt.show()"
   ]
  },
  {
   "cell_type": "code",
   "execution_count": 18,
   "id": "7a4c65db-8d7c-4c80-92bc-b279e8c21b22",
   "metadata": {},
   "outputs": [],
   "source": [
    "# Define colors for each species and the corresponding species labels.\n",
    "colors = ['red', 'yellow', 'green']\n",
    "species = ['Iris-setosa', 'Iris-versicolor', 'Iris-virginica']"
   ]
  },
  {
   "cell_type": "code",
   "execution_count": 19,
   "id": "44136e83-6eb8-4d72-88f9-09484292d300",
   "metadata": {},
   "outputs": [
    {
     "data": {
      "image/png": "[encoded data removed]",
      "text/plain": [
       "<Figure size 640x480 with 1 Axes>"
      ]
     },
     "metadata": {},
     "output_type": "display_data"
    }
   ],
   "source": [
    "# Chart - 2 Scatter plot visualization code for Sepal Length vs Sepal Width.\n",
    "# Create a scatter plot for Sepal Length vs Sepal Width for each species.\n",
    "for i in range(3):\n",
    "    # Select data for the current species.\n",
    "    x = data[data['Species'] == species[i]]\n",
    "\n",
    "    # Create a scatter plot with the specified color and label for the current species.\n",
    "    plt.scatter(x['SepalLengthCm'], x['SepalWidthCm'], c=colors[i], label=species[i])\n",
    "\n",
    "# Add labels to the x and y axes.\n",
    "plt.xlabel('Sepal Length')\n",
    "plt.ylabel('Sepal Width')\n",
    "\n",
    "# Add a legend to identify species based on colors.\n",
    "plt.legend()\n",
    "\n",
    "# Display the scatter plot.\n",
    "plt.show()"
   ]
  },
  {
   "cell_type": "code",
   "execution_count": 20,
   "id": "c69618c6-38d2-4a9d-9e2c-6ae4f54937f3",
   "metadata": {},
   "outputs": [
    {
     "data": {
      "image/png": "[encoded data removed]",
      "text/plain": [
       "<Figure size 640x480 with 1 Axes>"
      ]
     },
     "metadata": {},
     "output_type": "display_data"
    }
   ],
   "source": [
    "# Chart - 3 Scatter plot visualization code for Petal Length vs Petal Width.\n",
    "# Create a scatter plot for Petal Length vs Petal Width for each species.\n",
    "for i in range(3):\n",
    "    # Select data for the current species.\n",
    "    x = data[data['Species'] == species[i]]\n",
    "\n",
    "    # Create a scatter plot with the specified color and label for the current species.\n",
    "    plt.scatter(x['PetalLengthCm'], x['PetalWidthCm'], c=colors[i], label=species[i])\n",
    "\n",
    "# Add labels to the x and y axes.\n",
    "plt.xlabel('Petal Length')\n",
    "plt.ylabel('Petal Width')\n",
    "\n",
    "# Add a legend to identify species based on colors.\n",
    "plt.legend()\n",
    "\n",
    "# Display the scatter plot.\n",
    "plt.show()"
   ]
  },
  {
   "cell_type": "code",
   "execution_count": 21,
   "id": "950e0265-977c-49b5-8f77-b708ff6cfa93",
   "metadata": {},
   "outputs": [
    {
     "data": {
      "image/png": "[encoded data removed]",
      "text/plain": [
       "<Figure size 640x480 with 1 Axes>"
      ]
     },
     "metadata": {},
     "output_type": "display_data"
    }
   ],
   "source": [
    "# Chart - 4 Scatter plot visualization code for Sepal Length vs Petal Length.\n",
    "# Create a scatter plot for Sepal Length vs Petal Length for each species.\n",
    "for i in range(3):\n",
    "    # Select data for the current species.\n",
    "    x = data[data['Species'] == species[i]]\n",
    "\n",
    "    # Create a scatter plot with the specified color and label for the current species.\n",
    "    plt.scatter(x['SepalLengthCm'], x['PetalLengthCm'], c=colors[i], label=species[i])\n",
    "\n",
    "# Add labels to the x and y axes.\n",
    "plt.xlabel('Sepal Length')\n",
    "plt.ylabel('Petal Length')\n",
    "\n",
    "# Add a legend to identify species based on colors.\n",
    "plt.legend()\n",
    "\n",
    "# Display the scatter plot.\n",
    "plt.show()"
   ]
  },
  {
   "cell_type": "code",
   "execution_count": 22,
   "id": "3298afcb-ce1d-4cab-9afd-aad9795baacf",
   "metadata": {},
   "outputs": [
    {
     "data": {
      "image/png": "[encoded data removed]",
      "text/plain": [
       "<Figure size 640x480 with 1 Axes>"
      ]
     },
     "metadata": {},
     "output_type": "display_data"
    }
   ],
   "source": [
    "# Chart - 5 Scatter plot visualization code for Sepal Width vs Petal Width.\n",
    "# Create a scatter plot for Sepal Width vs Petal Width for each species.\n",
    "for i in range(3):\n",
    "    # Select data for the current species.\n",
    "    x = data[data['Species'] == species[i]]\n",
    "\n",
    "    # Create a scatter plot with the specified color and label for the current species.\n",
    "    plt.scatter(x['SepalWidthCm'], x['PetalWidthCm'], c=colors[i], label=species[i])\n",
    "\n",
    "# Add labels to the x and y axes.\n",
    "plt.xlabel('Sepal Width')\n",
    "plt.ylabel('Petal Width')\n",
    "\n",
    "# Add a legend to identify species based on colors.\n",
    "plt.legend()\n",
    "\n",
    "# Display the scatter plot.\n",
    "plt.show()"
   ]
  },
  {
   "cell_type": "markdown",
   "id": "92a47170-4586-4935-ade0-a9cb81f05ca0",
   "metadata": {},
   "source": [
    "5. Feature Engineering & Data Pre-processing"
   ]
  },
  {
   "cell_type": "code",
   "execution_count": null,
   "id": "ac47adf3-47ad-4c3e-8989-f2e0ef1df3b1",
   "metadata": {},
   "outputs": [],
   "source": [
    "# Encode the categorical columns\n",
    "# Create a LabelEncoder object\n",
    "le = LabelEncoder()\n",
    "\n",
    "# Encode the 'Species' column to convert the species names to numerical labels\n",
    "data['Species'] = le.fit_transform(data['Species'])\n",
    "\n",
    "# Check the unique values in the 'Species' column after encoding\n",
    "unique_species = data['Species'].unique()\n",
    "\n",
    "# Display the unique encoded values\n",
    "print(\"Encoded Species Values:\")\n",
    "print(unique_species) # 'Iris-setosa' == 0, 'Iris-versicolor' == 1, 'Iris-virginica' == 2"
   ]
  },
  {
   "cell_type": "code",
   "execution_count": null,
   "id": "ed1122d5-9161-482b-88d9-e7612a45eba0",
   "metadata": {},
   "outputs": [],
   "source": [
    "# Defining the X and y\n",
    "x=data.drop(columns=['Species'], axis=1)\n",
    "y=data['Species']"
   ]
  },
  {
   "cell_type": "code",
   "execution_count": null,
   "id": "7c5a1758-c9e6-4a5e-ab37-901d4beefc25",
   "metadata": {},
   "outputs": [],
   "source": [
    "# Splitting the data to train and test\n",
    "x_train,x_test,y_train,y_test=train_test_split(x,y, test_size=0.3)"
   ]
  },
  {
   "cell_type": "code",
   "execution_count": null,
   "id": "8031fe46-e367-4e68-b7e1-58954609f1be",
   "metadata": {},
   "outputs": [],
   "source": [
    "# Checking the train distribution of dependent variable\n",
    "y_train.value_counts()"
   ]
  },
  {
   "cell_type": "markdown",
   "id": "4c7b23ae-4494-4b40-b979-5d87cf85628f",
   "metadata": {},
   "source": [
    "6. ML Model Implementation"
   ]
  },
  {
   "cell_type": "code",
   "execution_count": null,
   "id": "11761dae-7a83-4590-8bcb-9aa8dae49aa5",
   "metadata": {},
   "outputs": [],
   "source": [
    "def evaluate_model(model, x_train, x_test, y_train, y_test):\n",
    "    '''The function will take model, x train, x test, y train, y test\n",
    "    and then it will fit the model, then make predictions on the trained model,\n",
    "    it will then print roc-auc score of train and test, then plot the roc, auc curve,\n",
    "    print confusion matrix for train and test, then print classification report for train and test,\n",
    "    then plot the feature importances if the model has feature importances,\n",
    "    and finally it will return the following scores as a list:\n",
    "    recall_train, recall_test, acc_train, acc_test, F1_train, F1_test\n",
    "    '''\n",
    "\n",
    "    # Fit the model to the training data.\n",
    "    model.fit(x_train, y_train)\n",
    "\n",
    "    # make predictions on the test data\n",
    "    y_pred_train = model.predict(x_train)\n",
    "    y_pred_test = model.predict(x_test)\n",
    "\n",
    "    # calculate confusion matrix\n",
    "    cm_train = confusion_matrix(y_train, y_pred_train)\n",
    "    cm_test = confusion_matrix(y_test, y_pred_test)\n",
    "\n",
    "    fig, ax = plt.subplots(1, 2, figsize=(11,4))\n",
    "\n",
    "    print(\"\\nConfusion Matrix:\")\n",
    "    sns.heatmap(cm_train, annot=True, xticklabels=['Negative', 'Positive'], yticklabels=['Negative', 'Positive'], cmap=\"Oranges\", fmt='.4g', ax=ax[0])\n",
    "    ax[0].set_xlabel(\"Predicted Label\")\n",
    "    ax[0].set_ylabel(\"True Label\")\n",
    "    ax[0].set_title(\"Train Confusion Matrix\")\n",
    "\n",
    "    sns.heatmap(cm_test, annot=True, xticklabels=['Negative', 'Positive'], yticklabels=['Negative', 'Positive'], cmap=\"Oranges\", fmt='.4g', ax=ax[1])\n",
    "    ax[1].set_xlabel(\"Predicted Label\")\n",
    "    ax[1].set_ylabel(\"True Label\")\n",
    "    ax[1].set_title(\"Test Confusion Matrix\")\n",
    "\n",
    "    plt.tight_layout()\n",
    "    plt.show()\n",
    "\n",
    "\n",
    "    # calculate classification report\n",
    "    cr_train = classification_report(y_train, y_pred_train, output_dict=True)\n",
    "    cr_test = classification_report(y_test, y_pred_test, output_dict=True)\n",
    "    print(\"\\nTrain Classification Report:\")\n",
    "    crt = pd.DataFrame(cr_train).T\n",
    "    print(crt.to_markdown())\n",
    "    # sns.heatmap(pd.DataFrame(cr_train).T.iloc[:, :-1], annot=True, cmap=\"Blues\")\n",
    "    print(\"\\nTest Classification Report:\")\n",
    "    crt2 = pd.DataFrame(cr_test).T\n",
    "    print(crt2.to_markdown())\n",
    "    # sns.heatmap(pd.DataFrame(cr_test).T.iloc[:, :-1], annot=True, cmap=\"Blues\")\n",
    "\n",
    "    precision_train = cr_train['weighted avg']['precision']\n",
    "    precision_test = cr_test['weighted avg']['precision']\n",
    "\n",
    "    recall_train = cr_train['weighted avg']['recall']\n",
    "    recall_test = cr_test['weighted avg']['recall']\n",
    "\n",
    "    acc_train = accuracy_score(y_true = y_train, y_pred = y_pred_train)\n",
    "    acc_test = accuracy_score(y_true = y_test, y_pred = y_pred_test)\n",
    "\n",
    "    F1_train = cr_train['weighted avg']['f1-score']\n",
    "    F1_test = cr_test['weighted avg']['f1-score']\n",
    "\n",
    "    model_score = [precision_train, precision_test, recall_train, recall_test, acc_train, acc_test, F1_train, F1_test ]\n",
    "    return model_score"
   ]
  },
  {
   "cell_type": "code",
   "execution_count": null,
   "id": "8fca09b7-d80e-4a31-8331-874e4179caef",
   "metadata": {},
   "outputs": [],
   "source": [
    "# Create a score dataframe\n",
    "score = pd.DataFrame(index = ['Precision Train', 'Precision Test','Recall Train','Recall Test','Accuracy Train', 'Accuracy Test', 'F1 macro Train', 'F1 macro Test'])"
   ]
  },
  {
   "cell_type": "markdown",
   "id": "07980b34-a9c5-4c7e-8dd0-3d5e1107beb7",
   "metadata": {},
   "source": [
    "ML Model - 1 : Logistic regression"
   ]
  },
  {
   "cell_type": "code",
   "execution_count": null,
   "id": "30e14f37-3238-4fb5-bb5e-ebd6568a2079",
   "metadata": {},
   "outputs": [],
   "source": [
    "# ML Model - 1 Implementation\n",
    "lr_model = LogisticRegression(fit_intercept=True, max_iter=10000)\n",
    "\n",
    "# Model is trained (fit) and predicted in the evaluate model"
   ]
  },
  {
   "cell_type": "code",
   "execution_count": null,
   "id": "7ece0324-c3ef-419a-a0e7-16180d5886a2",
   "metadata": {},
   "outputs": [],
   "source": [
    "# Visualizing evaluation Metric Score chart\n",
    "lr_score = evaluate_model(lr_model, x_train, x_test, y_train, y_test)"
   ]
  },
  {
   "cell_type": "code",
   "execution_count": null,
   "id": "06c9f879-06b2-45d0-a00b-c5873de7f632",
   "metadata": {},
   "outputs": [],
   "source": [
    "# Updated Evaluation metric Score Chart\n",
    "score['Logistic regression'] = lr_score\n",
    "score"
   ]
  },
  {
   "cell_type": "code",
   "execution_count": null,
   "id": "d12bb9bb-d6c3-41dc-b83f-d6fbd863a804",
   "metadata": {},
   "outputs": [],
   "source": [
    "# ML Model - 1 Implementation with hyperparameter optimization techniques (i.e., GridSearch CV, RandomSearch CV, Bayesian Optimization etc.)\n",
    "# Define the hyperparameter grid\n",
    "param_grid = {'C': [100,10,1,0.1,0.01,0.001,0.0001],\n",
    "              'penalty': ['l1', 'l2'],\n",
    "              'solver':['newton-cg', 'lbfgs', 'liblinear', 'sag', 'saga']}\n",
    "\n",
    "# Initializing the logistic regression model\n",
    "logreg = LogisticRegression(fit_intercept=True, max_iter=10000, random_state=0)\n",
    "\n",
    "# Repeated stratified kfold\n",
    "rskf = RepeatedStratifiedKFold(n_splits=3, n_repeats=4, random_state=0)\n",
    "\n",
    "# Using GridSearchCV to tune the hyperparameters using cross-validation\n",
    "grid = GridSearchCV(logreg, param_grid, cv=rskf)\n",
    "grid.fit(x_train, y_train)\n",
    "\n",
    "# Select the best hyperparameters found by GridSearchCV\n",
    "best_params = grid.best_params_\n",
    "print(\"Best hyperparameters: \", best_params)"
   ]
  },
  {
   "cell_type": "code",
   "execution_count": null,
   "id": "29a9546b-3dfc-4480-9fda-fb6e3718b51e",
   "metadata": {},
   "outputs": [],
   "source": [
    "# Initiate model with best parameters\n",
    "lr_model2 = LogisticRegression(C=best_params['C'],\n",
    "                                  penalty=best_params['penalty'],\n",
    "                                  solver=best_params['solver'],\n",
    "                                  max_iter=10000, random_state=0)"
   ]
  },
  {
   "cell_type": "code",
   "execution_count": null,
   "id": "a5bee465-eb21-4d6b-b3ed-25471b60ce51",
   "metadata": {},
   "outputs": [],
   "source": [
    "# Visualizing evaluation Metric Score chart\n",
    "lr_score2 = evaluate_model(lr_model2, x_train, x_test, y_train, y_test)"
   ]
  },
  {
   "cell_type": "code",
   "execution_count": null,
   "id": "a02ec103-e372-44b6-9b10-6a2dc1f46719",
   "metadata": {},
   "outputs": [],
   "source": [
    "score['Logistic regression tuned'] = lr_score2"
   ]
  },
  {
   "cell_type": "code",
   "execution_count": null,
   "id": "5ea93640-e806-4cd6-8ae7-cb5f97d0640f",
   "metadata": {},
   "outputs": [],
   "source": [
    "# Updated Evaluation metric Score Chart\n",
    "score"
   ]
  },
  {
   "cell_type": "markdown",
   "id": "df415ff0-424f-4f8a-9311-13ecdb9b7c0b",
   "metadata": {},
   "source": [
    "ML Model - 2 : Decision Tree"
   ]
  },
  {
   "cell_type": "code",
   "execution_count": null,
   "id": "df67adb4-55ba-4f68-a891-32e9b070543e",
   "metadata": {},
   "outputs": [],
   "source": [
    "# ML Model - 2 Implementation\n",
    "dt_model = DecisionTreeClassifier(random_state=20)\n",
    "\n",
    "# Model is trained (fit) and predicted in the evaluate model"
   ]
  },
  {
   "cell_type": "code",
   "execution_count": null,
   "id": "d18dc4da-8e9f-448f-b1f3-b4fdb881f672",
   "metadata": {},
   "outputs": [],
   "source": [
    "# Visualizing evaluation Metric Score chart\n",
    "dt_score = evaluate_model(dt_model, x_train, x_test, y_train, y_test)"
   ]
  },
  {
   "cell_type": "code",
   "execution_count": null,
   "id": "e860fcf0-30cc-404c-bf19-fd0f79a9cc26",
   "metadata": {},
   "outputs": [],
   "source": [
    "# Updated Evaluation metric Score Chart\n",
    "score['Decision Tree'] = dt_score\n",
    "score"
   ]
  },
  {
   "cell_type": "code",
   "execution_count": null,
   "id": "71e05467-1db7-49f7-996d-2cee4a1d3f85",
   "metadata": {},
   "outputs": [],
   "source": [
    "# ML Model - 2 Implementation with hyperparameter optimization techniques (i.e., GridSearch CV, RandomSearch CV, Bayesian Optimization etc.)\n",
    "# Define the hyperparameter grid\n",
    "grid = {'max_depth' : [3,4,5,6,7,8],\n",
    "        'min_samples_split' : np.arange(2,8),\n",
    "        'min_samples_leaf' : np.arange(10,20)}\n",
    "\n",
    "# Initialize the model\n",
    "model = DecisionTreeClassifier()\n",
    "\n",
    "# repeated stratified kfold\n",
    "rskf = RepeatedStratifiedKFold(n_splits=3, n_repeats=3, random_state=0)\n",
    "\n",
    "# Initialize GridSearchCV\n",
    "grid_search = GridSearchCV(model, grid, cv=rskf)\n",
    "\n",
    "# Fit the GridSearchCV to the training data\n",
    "grid_search.fit(x_train, y_train)\n",
    "\n",
    "# Select the best hyperparameters\n",
    "best_params = grid_search.best_params_\n",
    "print(\"Best hyperparameters: \", best_params)"
   ]
  },
  {
   "cell_type": "code",
   "execution_count": null,
   "id": "16400cff-7854-46b5-a936-79a5377f1d43",
   "metadata": {},
   "outputs": [],
   "source": [
    "# Train a new model with the best hyperparameters\n",
    "dt_model2 = DecisionTreeClassifier(max_depth=best_params['max_depth'],\n",
    "                                 min_samples_leaf=best_params['min_samples_leaf'],\n",
    "                                 min_samples_split=best_params['min_samples_split'],\n",
    "                                 random_state=20)"
   ]
  },
  {
   "cell_type": "code",
   "execution_count": null,
   "id": "fccf13bf-aebc-48f7-abb4-ff6e03866679",
   "metadata": {},
   "outputs": [],
   "source": [
    "# Visualizing evaluation Metric Score chart\n",
    "dt2_score = evaluate_model(dt_model2, x_train, x_test, y_train, y_test)"
   ]
  },
  {
   "cell_type": "code",
   "execution_count": null,
   "id": "c1290963-b4ed-4fda-9e27-ad0fec84f472",
   "metadata": {},
   "outputs": [],
   "source": [
    "score['Decision Tree tuned'] = dt2_score"
   ]
  },
  {
   "cell_type": "code",
   "execution_count": null,
   "id": "c4b12c95-3848-4376-b077-7a468dde233d",
   "metadata": {},
   "outputs": [],
   "source": [
    "# Updated Evaluation metric Score Chart\n",
    "score"
   ]
  },
  {
   "cell_type": "markdown",
   "id": "fc15f983-f07d-4dc6-adc0-8a6ae7cb3624",
   "metadata": {},
   "source": [
    "ML Model - 3 : Random Forest"
   ]
  },
  {
   "cell_type": "code",
   "execution_count": null,
   "id": "2089f1e9-6a0b-43c5-8b9f-8a7a1a0fa00c",
   "metadata": {},
   "outputs": [],
   "source": [
    "# ML Model - 3 Implementation\n",
    "rf_model = RandomForestClassifier(random_state=0)\n",
    "\n",
    "# Model is trained (fit) and predicted in the evaluate model"
   ]
  },
  {
   "cell_type": "code",
   "execution_count": null,
   "id": "f608b7d8-0d1f-40b3-b363-48f0e1d29564",
   "metadata": {},
   "outputs": [],
   "source": [
    "# Visualizing evaluation Metric Score chart\n",
    "rf_score = evaluate_model(rf_model, x_train, x_test, y_train, y_test)"
   ]
  },
  {
   "cell_type": "code",
   "execution_count": null,
   "id": "20a79461-eeb8-4fd0-8b07-3416c45ac59b",
   "metadata": {},
   "outputs": [],
   "source": [
    "# Updated Evaluation metric Score Chart\n",
    "score['Random Forest'] = rf_score\n",
    "score"
   ]
  },
  {
   "cell_type": "code",
   "execution_count": null,
   "id": "e3fb6fa4-c710-43fd-a8ff-4ddbddfb69b6",
   "metadata": {},
   "outputs": [],
   "source": [
    "# ML Model - 3 Implementation with hyperparameter optimization techniques (i.e., GridSearch CV, RandomSearch CV, Bayesian Optimization etc.)\n",
    "# Define the hyperparameter grid\n",
    "grid = {'n_estimators': [10, 50, 100, 200],\n",
    "              'max_depth': [8, 9, 10, 11, 12,13, 14, 15],\n",
    "              'min_samples_split': [2, 3, 4, 5]}\n",
    "\n",
    "# Initialize the model\n",
    "rf = RandomForestClassifier(random_state=0)\n",
    "\n",
    "# Repeated stratified kfold\n",
    "rskf = RepeatedStratifiedKFold(n_splits=3, n_repeats=3, random_state=0)\n",
    "\n",
    "# Initialize RandomSearchCV\n",
    "random_search = RandomizedSearchCV(rf, grid,cv=rskf, n_iter=10, n_jobs=-1)\n",
    "\n",
    "# Fit the RandomSearchCV to the training data\n",
    "random_search.fit(x_train, y_train)\n",
    "\n",
    "# Select the best hyperparameters\n",
    "best_params = random_search.best_params_\n",
    "print(\"Best hyperparameters: \", best_params)"
   ]
  },
  {
   "cell_type": "code",
   "execution_count": null,
   "id": "60529b67-6187-4938-88de-f5ac1ef3aa52",
   "metadata": {},
   "outputs": [],
   "source": [
    "# Initialize model with best parameters\n",
    "rf_model2 = RandomForestClassifier(n_estimators = best_params['n_estimators'],\n",
    "                                 min_samples_leaf= best_params['min_samples_split'],\n",
    "                                 max_depth = best_params['max_depth'],\n",
    "                                 random_state=0)"
   ]
  },
  {
   "cell_type": "code",
   "execution_count": null,
   "id": "91f1412a-122f-4082-b9ae-4d6e7e50bd10",
   "metadata": {},
   "outputs": [],
   "source": [
    "# Visualizing evaluation Metric Score chart\n",
    "rf2_score = evaluate_model(rf_model2, x_train, x_test, y_train, y_test)"
   ]
  },
  {
   "cell_type": "code",
   "execution_count": null,
   "id": "0549cf59-64fe-40d1-830f-2f7088b3f9c7",
   "metadata": {},
   "outputs": [],
   "source": [
    "score['Random Forest tuned'] = rf2_score"
   ]
  },
  {
   "cell_type": "code",
   "execution_count": null,
   "id": "488f54fd-5a5e-4d73-8ea6-cf63d53e9d25",
   "metadata": {},
   "outputs": [],
   "source": [
    "# Updated Evaluation metric Score Chart\n",
    "score"
   ]
  },
  {
   "cell_type": "markdown",
   "id": "9a0aff94-4413-4fd5-821d-9e36b493b22b",
   "metadata": {},
   "source": [
    "ML Model - 4 : SVM (Support Vector Machine)"
   ]
  },
  {
   "cell_type": "code",
   "execution_count": null,
   "id": "e8143e48-66f0-48f8-adad-d059a8000ec4",
   "metadata": {},
   "outputs": [],
   "source": [
    "# ML Model - 4 Implementation\n",
    "svm_model = SVC(kernel='linear', random_state=0, probability=True)\n",
    "\n",
    "# Model is trained (fit) and predicted in the evaluate model"
   ]
  },
  {
   "cell_type": "code",
   "execution_count": null,
   "id": "9ebd7f8a-eb78-4415-8410-554ef014ca75",
   "metadata": {},
   "outputs": [],
   "source": [
    "# Visualizing evaluation Metric Score chart\n",
    "svm_score = evaluate_model(svm_model, x_train, x_test, y_train, y_test)"
   ]
  },
  {
   "cell_type": "code",
   "execution_count": null,
   "id": "fcc98314-ba67-49ec-9031-312295b20e40",
   "metadata": {},
   "outputs": [],
   "source": [
    "# Updated Evaluation metric Score Chart\n",
    "score['SVM'] = svm_score\n",
    "score"
   ]
  },
  {
   "cell_type": "code",
   "execution_count": null,
   "id": "8ec2ef4a-5c84-4ea6-ae22-ef9e1ee8732f",
   "metadata": {},
   "outputs": [],
   "source": [
    "# ML Model - 4 Implementation with hyperparameter optimization techniques (i.e., GridSearch CV, RandomSearch CV, Bayesian Optimization etc.)\n",
    "# Define the hyperparameter grid\n",
    "param_grid = {'C': np.arange(0.1, 10, 0.1),\n",
    "              'kernel': ['linear', 'poly', 'rbf', 'sigmoid'],\n",
    "              'degree': np.arange(2, 6, 1)}\n",
    "\n",
    "# Initialize the model\n",
    "svm = SVC(random_state=0, probability=True)\n",
    "\n",
    "# Repeated stratified kfold\n",
    "rskf = RepeatedStratifiedKFold(n_splits=3, n_repeats=3, random_state=0)\n",
    "\n",
    "# Initialize RandomizedSearchCV with kfold cross-validation\n",
    "random_search = RandomizedSearchCV(svm, param_grid, n_iter=10, cv=rskf, n_jobs=-1)\n",
    "\n",
    "# Fit the RandomizedSearchCV to the training data\n",
    "random_search.fit(x_train, y_train)\n",
    "\n",
    "# Select the best hyperparameters\n",
    "best_params = random_search.best_params_\n",
    "print(\"Best hyperparameters: \", best_params)"
   ]
  },
  {
   "cell_type": "code",
   "execution_count": null,
   "id": "822996d3-a4dd-46fd-b274-24c2ea7dc44b",
   "metadata": {},
   "outputs": [],
   "source": [
    "# Initialize model with best parameters\n",
    "svm_model2 = SVC(C = best_params['C'],\n",
    "           kernel = best_params['kernel'],\n",
    "           degree = best_params['degree'],\n",
    "           random_state=0, probability=True)"
   ]
  },
  {
   "cell_type": "code",
   "execution_count": null,
   "id": "79c25baa-e275-47f1-9b83-633ba345d7d0",
   "metadata": {},
   "outputs": [],
   "source": [
    "# Visualizing evaluation Metric Score chart\n",
    "svm2_score = evaluate_model(svm_model2, x_train, x_test, y_train, y_test)"
   ]
  },
  {
   "cell_type": "code",
   "execution_count": null,
   "id": "da8cfd75-ceb2-4b4e-9fed-cc6902e54939",
   "metadata": {},
   "outputs": [],
   "source": [
    "score['SVM tuned'] = svm2_score"
   ]
  },
  {
   "cell_type": "code",
   "execution_count": null,
   "id": "75bd9aea-178f-4b4e-adf8-44376d29ec62",
   "metadata": {},
   "outputs": [],
   "source": [
    "# Updated Evaluation metric Score Chart\n",
    "score"
   ]
  },
  {
   "cell_type": "markdown",
   "id": "d47d144f-8da0-4d81-93a3-322ecc30f37f",
   "metadata": {},
   "source": [
    "ML Model - 5 : Xtreme Gradient Boosting"
   ]
  },
  {
   "cell_type": "code",
   "execution_count": null,
   "id": "fed4cba8-8ba9-44f8-b489-bf92c66a10f5",
   "metadata": {},
   "outputs": [],
   "source": [
    "# ML Model - 5 Implementation\n",
    "xgb_model = xgb.XGBClassifier()\n",
    "\n",
    "# Model is trained (fit) and predicted in the evaluate model"
   ]
  },
  {
   "cell_type": "code",
   "execution_count": null,
   "id": "c594756e-2f51-4f34-a792-bd7d5f75b091",
   "metadata": {},
   "outputs": [],
   "source": [
    "# Visualizing evaluation Metric Score chart\n",
    "xgb_score = evaluate_model(xgb_model, x_train, x_test, y_train, y_test)"
   ]
  },
  {
   "cell_type": "code",
   "execution_count": null,
   "id": "d941432d-e3f8-4bd1-9319-844670a913f0",
   "metadata": {},
   "outputs": [],
   "source": [
    "# Updated Evaluation metric Score Chart\n",
    "score['XGB'] = xgb_score\n",
    "score"
   ]
  },
  {
   "cell_type": "code",
   "execution_count": null,
   "id": "571f1e40-174d-41c9-9d98-bc76df49675b",
   "metadata": {},
   "outputs": [],
   "source": [
    "# ML Model - 5 Implementation with hyperparameter optimization techniques (i.e., GridSearch CV, RandomSearch CV, Bayesian Optimization etc.)\n",
    "# Define the hyperparameter grid\n",
    "param_grid = {'learning_rate': np.arange(0.01, 0.3, 0.01),\n",
    "              'max_depth': np.arange(3, 15, 1),\n",
    "              'n_estimators': np.arange(100, 200, 10)}\n",
    "\n",
    "# Initialize the model\n",
    "xgb2 = xgb.XGBClassifier(random_state=0)\n",
    "\n",
    "# Repeated stratified kfold\n",
    "rskf = RepeatedStratifiedKFold(n_splits=3, n_repeats=3, random_state=0)\n",
    "\n",
    "# Initialize RandomizedSearchCV\n",
    "random_search = RandomizedSearchCV(xgb2, param_grid, n_iter=10, cv=rskf)\n",
    "\n",
    "# Fit the RandomizedSearchCV to the training data\n",
    "random_search.fit(x_train, y_train)\n",
    "\n",
    "# Select the best hyperparameters\n",
    "best_params = random_search.best_params_\n",
    "print(\"Best hyperparameters: \", best_params)"
   ]
  },
  {
   "cell_type": "code",
   "execution_count": null,
   "id": "c98f73cd-9fcb-411d-9be6-f9476b045176",
   "metadata": {},
   "outputs": [],
   "source": [
    "# Initialize model with best parameters\n",
    "xgb_model2 = xgb.XGBClassifier(learning_rate = best_params['learning_rate'],\n",
    "                                 max_depth = best_params['max_depth'],\n",
    "                               n_estimators = best_params['n_estimators'],\n",
    "                                 random_state=0)"
   ]
  },
  {
   "cell_type": "code",
   "execution_count": null,
   "id": "d8376b36-3951-4c9f-9cf2-b26d2cdbb0f5",
   "metadata": {},
   "outputs": [],
   "source": [
    "# Visualizing evaluation Metric Score chart\n",
    "xgb2_score = evaluate_model(xgb_model2, x_train, x_test, y_train, y_test)"
   ]
  },
  {
   "cell_type": "code",
   "execution_count": null,
   "id": "0784641b-c6de-41d4-bc0e-a958ff2df436",
   "metadata": {},
   "outputs": [],
   "source": [
    "score['XGB tuned'] = xgb2_score"
   ]
  },
  {
   "cell_type": "code",
   "execution_count": null,
   "id": "b518c4c9-6610-4694-9bd2-09a84da79a39",
   "metadata": {},
   "outputs": [],
   "source": [
    "# Updated Evaluation metric Score Chart\n",
    "score"
   ]
  },
  {
   "cell_type": "markdown",
   "id": "f8d75930-d90b-41b1-b1bc-302cd50fd9c6",
   "metadata": {},
   "source": [
    "ML Model - 6 : Naive Bayes"
   ]
  },
  {
   "cell_type": "code",
   "execution_count": null,
   "id": "1b49fece-0b9a-4e39-b882-a45a7c845dbe",
   "metadata": {},
   "outputs": [],
   "source": [
    "# ML Model - 6 Implementation\n",
    "nb_model = GaussianNB()\n",
    "\n",
    "# Model is trained (fit) and predicted in the evaluate model"
   ]
  },
  {
   "cell_type": "code",
   "execution_count": null,
   "id": "0df1d6c0-2e1d-4429-b35a-b6744eb6b3e3",
   "metadata": {},
   "outputs": [],
   "source": [
    "# Visualizing evaluation Metric Score chart\n",
    "nb_score = evaluate_model(nb_model, x_train, x_test, y_train, y_test)"
   ]
  },
  {
   "cell_type": "code",
   "execution_count": null,
   "id": "e2391d18-cb3d-47a8-834c-6671e52dbad2",
   "metadata": {},
   "outputs": [],
   "source": [
    "# Updated Evaluation metric Score Chart\n",
    "score['Naive Bayes'] = nb_score\n",
    "score"
   ]
  },
  {
   "cell_type": "code",
   "execution_count": null,
   "id": "d0bcf0dc-eb56-4d39-8011-ae51f27bdfb8",
   "metadata": {},
   "outputs": [],
   "source": [
    "# ML Model - 6 Implementation with hyperparameter optimization techniques (i.e., GridSearch CV, RandomSearch CV, Bayesian Optimization etc.)\n",
    "# Define the hyperparameter grid\n",
    "param_grid = {'var_smoothing': np.logspace(0,-9, num=100)}\n",
    "\n",
    "# Initialize the model\n",
    "naive = GaussianNB()\n",
    "\n",
    "# repeated stratified kfold\n",
    "rskf = RepeatedStratifiedKFold(n_splits=4, n_repeats=4, random_state=0)\n",
    "\n",
    "# Initialize GridSearchCV\n",
    "GridSearch = GridSearchCV(naive, param_grid, cv=rskf, n_jobs=-1)\n",
    "\n",
    "# Fit the GridSearchCV to the training data\n",
    "GridSearch.fit(x_train, y_train)\n",
    "\n",
    "# Select the best hyperparameters\n",
    "best_params = GridSearch.best_params_\n",
    "print(\"Best hyperparameters: \", best_params)"
   ]
  },
  {
   "cell_type": "code",
   "execution_count": null,
   "id": "cb19600f-ff74-40fc-a4ec-c65b39405a8e",
   "metadata": {},
   "outputs": [],
   "source": [
    "# Initiate model with best parameters\n",
    "nb_model2 = GaussianNB(var_smoothing = best_params['var_smoothing'])"
   ]
  },
  {
   "cell_type": "code",
   "execution_count": null,
   "id": "afe4f78d-a616-46d6-aef2-f6022b561dc6",
   "metadata": {},
   "outputs": [],
   "source": [
    "# Visualizing evaluation Metric Score chart\n",
    "nb2_score = evaluate_model(nb_model2, x_train, x_test, y_train, y_test)"
   ]
  },
  {
   "cell_type": "code",
   "execution_count": null,
   "id": "bd78780f-c369-4e02-85b2-6af372eb48db",
   "metadata": {},
   "outputs": [],
   "source": [
    "score['Naive Bayes tuned']= nb2_score"
   ]
  },
  {
   "cell_type": "code",
   "execution_count": null,
   "id": "64d9920a-eb53-461b-9473-c064288f967d",
   "metadata": {},
   "outputs": [],
   "source": [
    "# Updated Evaluation metric Score Chart\n",
    "score"
   ]
  },
  {
   "cell_type": "markdown",
   "id": "787f58ee-234f-4d2c-aa45-300b724dde85",
   "metadata": {},
   "source": [
    "ML Model - 7 : Neural Network"
   ]
  },
  {
   "cell_type": "code",
   "execution_count": null,
   "id": "ee9ccadb-8d49-4a84-959d-c324c56ed3c0",
   "metadata": {},
   "outputs": [],
   "source": [
    "# ML Model - 7 Implementation\n",
    "nn_model = MLPClassifier(random_state=0)\n",
    "\n",
    "# Model is trained (fit) and predicted in the evaluate model"
   ]
  },
  {
   "cell_type": "code",
   "execution_count": null,
   "id": "77d69fa8-aeb8-414f-be0b-8b5c34c0c150",
   "metadata": {},
   "outputs": [],
   "source": [
    "# Visualizing evaluation Metric Score chart\n",
    "neural_score = evaluate_model(nn_model, x_train, x_test, y_train, y_test)"
   ]
  },
  {
   "cell_type": "code",
   "execution_count": null,
   "id": "8c394991-cbef-4d09-ab6c-a1705c441efe",
   "metadata": {},
   "outputs": [],
   "source": [
    "# Updated Evaluation metric Score Chart\n",
    "score['Neural Network'] = neural_score\n",
    "score"
   ]
  },
  {
   "cell_type": "code",
   "execution_count": null,
   "id": "d9e954b5-ee85-4647-a90e-3babe3da42ae",
   "metadata": {},
   "outputs": [],
   "source": [
    "# ML Model - 7 Implementation with hyperparameter optimization techniques (i.e., GridSearch CV, RandomSearch CV, Bayesian Optimization etc.)\n",
    "# Define the hyperparameter grid\n",
    "param_grid = {'hidden_layer_sizes': np.arange(10, 100, 10),\n",
    "              'alpha': np.arange(0.0001, 0.01, 0.0001)}\n",
    "\n",
    "# Initialize the model\n",
    "neural = MLPClassifier(random_state=0)\n",
    "\n",
    "# Repeated stratified kfold\n",
    "rskf = RepeatedStratifiedKFold(n_splits=3, n_repeats=3, random_state=0)\n",
    "\n",
    "# Initialize RandomizedSearchCV\n",
    "random_search = RandomizedSearchCV(neural, param_grid, n_iter=10, cv=rskf, n_jobs=-1)\n",
    "\n",
    "# Fit the RandomizedSearchCV to the training data\n",
    "random_search.fit(x_train, y_train)\n",
    "\n",
    "# Select the best hyperparameters\n",
    "best_params = random_search.best_params_\n",
    "print(\"Best hyperparameters: \", best_params)"
   ]
  },
  {
   "cell_type": "code",
   "execution_count": null,
   "id": "46a5fd4f-241b-41b3-8902-e09ae21800b6",
   "metadata": {},
   "outputs": [],
   "source": [
    "# Initiate model with best parameters\n",
    "nn_model2 = MLPClassifier(hidden_layer_sizes = best_params['hidden_layer_sizes'],\n",
    "                        alpha = best_params['alpha'],\n",
    "                        random_state = 0)"
   ]
  },
  {
   "cell_type": "code",
   "execution_count": null,
   "id": "00509225-e32d-48cc-b710-dc7fb1a0a778",
   "metadata": {},
   "outputs": [],
   "source": [
    "# Visualizing evaluation Metric Score chart\n",
    "neural2_score = evaluate_model(nn_model2, x_train, x_test, y_train, y_test)"
   ]
  },
  {
   "cell_type": "code",
   "execution_count": null,
   "id": "a5169971-0f7c-4299-8fee-765d62c6b4d5",
   "metadata": {},
   "outputs": [],
   "source": [
    "score['Neural Network tuned']= neural2_score"
   ]
  },
  {
   "cell_type": "code",
   "execution_count": null,
   "id": "9f27939f-5ef1-4077-a31b-f3ec6d2ab96e",
   "metadata": {},
   "outputs": [],
   "source": [
    "# Updated Evaluation metric Score Chart\n",
    "score"
   ]
  },
  {
   "cell_type": "code",
   "execution_count": null,
   "id": "4ca7315f-7793-465e-905f-7eb6a1cee3db",
   "metadata": {},
   "outputs": [],
   "source": [
    "print(score.to_markdown())"
   ]
  },
  {
   "cell_type": "markdown",
   "id": "69b31f37-3043-4b01-a499-8f6e2373423e",
   "metadata": {},
   "source": [
    "Selection of best model"
   ]
  },
  {
   "cell_type": "code",
   "execution_count": null,
   "id": "d2fd97a7-9b0c-46b7-bfe2-0a4ef2e8fa7c",
   "metadata": {},
   "outputs": [],
   "source": [
    "# Removing the overfitted models which have precision, recall, f1 scores for train as 1\n",
    "score_t = score.transpose()            # taking transpose of the score dataframe to create new difference column\n",
    "remove_models = score_t[score_t['Recall Train']>=0.98].index  # creating a list of models which have 1 for train and score_t['Accuracy Train']==1.0 and score_t['Precision Train']==1.0 and score_t['F1 macro Train']==1.0\n",
    "remove_models\n",
    "\n",
    "adj = score_t.drop(remove_models)                     # creating a new dataframe with required models\n",
    "adj"
   ]
  },
  {
   "cell_type": "code",
   "execution_count": null,
   "id": "e61a17cc-2ba4-41e2-a3cf-07e8e7fc4476",
   "metadata": {},
   "outputs": [],
   "source": [
    "def select_best_model(df, metrics):\n",
    "\n",
    "    best_models = {}\n",
    "    for metric in metrics:\n",
    "        max_test = df[metric + ' Test'].max()\n",
    "        best_model_test = df[df[metric + ' Test'] == max_test].index[0]\n",
    "        best_model = best_model_test\n",
    "        best_models[metric] = best_model\n",
    "    return best_models"
   ]
  },
  {
   "cell_type": "code",
   "execution_count": null,
   "id": "f4eeece8-79f9-4bb6-9dfb-74a18cfb983d",
   "metadata": {},
   "outputs": [],
   "source": [
    "metrics = ['Precision', 'Recall', 'Accuracy', 'F1 macro']\n",
    "\n",
    "best_models = select_best_model(adj, metrics)\n",
    "print(\"The best models are:\")\n",
    "for metric, best_model in best_models.items():\n",
    "    print(f\"{metric}: {best_model} - {adj[metric+' Test'][best_model].round(4)}\")"
   ]
  },
  {
   "cell_type": "code",
   "execution_count": null,
   "id": "18799289-82ec-4807-a89c-08957cc829eb",
   "metadata": {},
   "outputs": [],
   "source": [
    "# Take recall as the primary evaluation metric\n",
    "score_smpl = score.transpose()\n",
    "remove_overfitting_models = score_smpl[score_smpl['Recall Train']>=0.98].index\n",
    "remove_overfitting_models\n",
    "new_score = score_smpl.drop(remove_overfitting_models)\n",
    "new_score = new_score.drop(['Precision Train','Precision Test','Accuracy Train','Accuracy Test','F1 macro Train','F1 macro Test'], axis=1)\n",
    "new_score.index.name = 'Classification Model'\n",
    "print(new_score.to_markdown())"
   ]
  },
  {
   "cell_type": "markdown",
   "id": "82f3b789-fd5d-4f3e-ac0a-f107ed045919",
   "metadata": {},
   "source": [
    "Model used for prediction"
   ]
  },
  {
   "cell_type": "code",
   "execution_count": null,
   "id": "f5acdeb2-5a8f-4bc5-9746-29f9c690012c",
   "metadata": {},
   "outputs": [],
   "source": [
    "# Define a list of category labels for reference.\n",
    "Category_RF = ['Iris-Setosa', 'Iris-Versicolor', 'Iris-Virginica']"
   ]
  },
  {
   "cell_type": "code",
   "execution_count": null,
   "id": "3f8e6f36-d80a-4fd7-b3ab-f7281630389c",
   "metadata": {},
   "outputs": [],
   "source": [
    "# In this example, it's a data point with Sepal Length, Sepal Width, Petal Length, and Petal Width.\n",
    "x_rf = np.array([[5.8, 2.8, 4.1, 1]])\n",
    "\n",
    "# Use the tuned random forest model (rf_model2) to make a prediction.\n",
    "x_rf_prediction = rf_model2.predict(x_rf)\n",
    "x_rf_prediction[0]\n",
    "\n",
    "# Display the predicted category label.\n",
    "print(Category_RF[int(x_rf_prediction[0])])"
   ]
  },
  {
   "cell_type": "code",
   "execution_count": null,
   "id": "d86051ce-75b2-4d4c-9669-f261541f212c",
   "metadata": {},
   "outputs": [],
   "source": []
  }
 ],
 "metadata": {
  "kernelspec": {
   "display_name": "Python 3 (ipykernel)",
   "language": "python",
   "name": "python3"
  },
  "language_info": {
   "codemirror_mode": {
    "name": "ipython",
    "version": 3
   },
   "file_extension": ".py",
   "mimetype": "text/x-python",
   "name": "python",
   "nbconvert_exporter": "python",
   "pygments_lexer": "ipython3",
   "version": "3.12.4"
  }
 },
 "nbformat": 4,
 "nbformat_minor": 5
}
